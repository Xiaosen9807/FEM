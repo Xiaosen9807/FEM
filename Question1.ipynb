{
 "cells": [
  {
   "cell_type": "code",
   "execution_count": null,
   "metadata": {},
   "outputs": [
    {
     "ename": "",
     "evalue": "",
     "output_type": "error",
     "traceback": [
      "\u001b[1;31mFailed to start the Kernel. \n",
      "\u001b[1;31mDaemon Connection Closed\n",
      "\u001b[1;31m/opt/anaconda3/lib/python3.9/site-packages/traitlets/traitlets.py:2202: FutureWarning: Supporting extra quotes around strings is deprecated in traitlets 5.0. You can use '/Users/xusenqin/Desktop/FEM' instead of '\"/Users/xusenqin/Desktop/FEM\"' if you require traitlets >=5.\n",
      "\u001b[1;31m  warn(\n",
      "\u001b[1;31m\n",
      "\u001b[1;31mFailed to run jupyter as observable with args notebook --no-browser --notebook-dir=\"/Users/xusenqin/Desktop/FEM\" --config=/var/folders/hd/mc7xhwh55r3c7crzjnccdypr0000gn/T/0ddac647-bbdd-4cb3-a585-84f615fe2a4e/jupyter_notebook_config.py --NotebookApp.iopub_data_rate_limit=10000000000.0. \n",
      "\u001b[1;31mView Jupyter <a href='command:jupyter.viewOutput'>log</a> for further details."
     ]
    }
   ],
   "source": [
    "import torch\n",
    "from torch import atan\n",
    "from torch.autograd import grad\n",
    "import numpy as np\n",
    "import matplotlib.pyplot as plt\n",
    "from scipy.interpolate import lagrange\n",
    "from scipy.misc import derivative\n",
    "\n",
    "from sympy import *\n",
    "import sympy as sp\n",
    "from scipy.special import roots_legendre\n",
    "from Func import *\n"
   ]
  },
  {
   "cell_type": "code",
   "execution_count": null,
   "metadata": {},
   "outputs": [
    {
     "ename": "",
     "evalue": "",
     "output_type": "error",
     "traceback": [
      "\u001b[1;31mFailed to start the Kernel. \n",
      "\u001b[1;31mDaemon Connection Closed\n",
      "\u001b[1;31m/opt/anaconda3/lib/python3.9/site-packages/traitlets/traitlets.py:2202: FutureWarning: Supporting extra quotes around strings is deprecated in traitlets 5.0. You can use '/Users/xusenqin/Desktop/FEM' instead of '\"/Users/xusenqin/Desktop/FEM\"' if you require traitlets >=5.\n",
      "\u001b[1;31m  warn(\n",
      "\u001b[1;31m\n",
      "\u001b[1;31mFailed to run jupyter as observable with args notebook --no-browser --notebook-dir=\"/Users/xusenqin/Desktop/FEM\" --config=/var/folders/hd/mc7xhwh55r3c7crzjnccdypr0000gn/T/0ddac647-bbdd-4cb3-a585-84f615fe2a4e/jupyter_notebook_config.py --NotebookApp.iopub_data_rate_limit=10000000000.0. \n",
      "\u001b[1;31mView Jupyter <a href='command:jupyter.viewOutput'>log</a> for further details."
     ]
    }
   ],
   "source": [
    "x = symbols('x')\n",
    "fx = -sin(pi*x)\n",
    "fx"
   ]
  },
  {
   "cell_type": "code",
   "execution_count": null,
   "metadata": {},
   "outputs": [
    {
     "ename": "",
     "evalue": "",
     "output_type": "error",
     "traceback": [
      "\u001b[1;31mFailed to start the Kernel. \n",
      "\u001b[1;31mDaemon Connection Closed\n",
      "\u001b[1;31m/opt/anaconda3/lib/python3.9/site-packages/traitlets/traitlets.py:2202: FutureWarning: Supporting extra quotes around strings is deprecated in traitlets 5.0. You can use '/Users/xusenqin/Desktop/FEM' instead of '\"/Users/xusenqin/Desktop/FEM\"' if you require traitlets >=5.\n",
      "\u001b[1;31m  warn(\n",
      "\u001b[1;31m\n",
      "\u001b[1;31mFailed to run jupyter as observable with args notebook --no-browser --notebook-dir=\"/Users/xusenqin/Desktop/FEM\" --config=/var/folders/hd/mc7xhwh55r3c7crzjnccdypr0000gn/T/0ddac647-bbdd-4cb3-a585-84f615fe2a4e/jupyter_notebook_config.py --NotebookApp.iopub_data_rate_limit=10000000000.0. \n",
      "\u001b[1;31mView Jupyter <a href='command:jupyter.viewOutput'>log</a> for further details."
     ]
    }
   ],
   "source": [
    "from scipy.sparse import dia_matrix\n",
    "from scipy.sparse.linalg import inv\n",
    "from numpy import pi\n",
    "\n",
    "class FEM:\n",
    "    def __init__(self, nodes, xmin=0, xmax=1):\n",
    "        self.nodes = nodes\n",
    "        x = np.linspace(xmin, xmax, nodes, dtype=float)\n",
    "        self.x = x\n",
    "        self.h = x[1] - x[0]\n",
    "        self.a=50\n",
    "        self.xb=0.2\n",
    "        \n",
    "    def Kmatrix(self):\n",
    "        n = self.nodes\n",
    "        m = 1/self.h * np.ones(n)\n",
    "        data = [m, -2*m, m]\n",
    "        offsets = [-1, 0, 1]\n",
    "        # 使用 scipy.sparse 稀疏矩阵库，构造 3 对角稀疏矩阵 K\n",
    "        K = dia_matrix((data, offsets), shape=(n, n)).tocsc()\n",
    "        return K\n",
    "    \n",
    "    def bvec(self): # 在这里定义二阶导\n",
    "        x=self.x\n",
    "        a=self.a\n",
    "        xb=self.xb\n",
    "        B=x-xb\n",
    "        '''假设 rho(x) 在每个单元内值为常数，仅对 u_j(x) 做积分'''\n",
    "        #return - np.sin(pi * self.x) * self.h\n",
    "        return -2*(a+a**3*B*(B-x+1))/(a**2*B**2+1)**2*self.h\n",
    "        #return (1 - x) * (np.arctan(a * (x - xb)) + np.arctan(a*xb+np.zeros_like(x)))/self.h\n",
    "        #return (x+1)*self.h\n",
    "\n",
    "\n",
    "\n",
    "\n",
    "    def solve(self):\n",
    "        K = self.Kmatrix()\n",
    "        b = self.bvec()\n",
    "        #print(type(b))\n",
    "        return inv(K) * b\n",
    "    \n",
    "    def compare(self):\n",
    "        x=self.x\n",
    "        a=self.a\n",
    "        xb=self.xb\n",
    "        B=x-xb\n",
    "        #ground_truth = 1/(pi**2) * np.sin(pi * self.x)\n",
    "        #print(np.sinh(self.x))\n",
    "\n",
    "        ground_truth =(1 - x) * (np.arctan(a * (x - xb)) + np.arctan(a*xb+np.zeros_like(x))) #这里是原函数\n",
    "        #ground_truth =-2*(a+a**3*B*(B-x+1))/(a**2*B**2+1)**2\n",
    "        #ground_truth =1/6*x*3\n",
    "        \n",
    "        fem_res = self.solve()\n",
    "        \n",
    "        plt.scatter(self.x, ground_truth, label=\"ground truth\")\n",
    "        plt.scatter(self.x, fem_res, label=\"finite element\")\n",
    "        plt.title(\"number of nodes = %s\"%self.nodes)\n",
    "        plt.xlabel(\"x\")\n",
    "        plt.ylabel(r\"$\\phi(x)$\")\n",
    "        plt.legend(loc='best')\n",
    "        plt.show()\n",
    "\n",
    "\n",
    "fem = FEM(100)\n",
    "fem.compare()\n"
   ]
  },
  {
   "cell_type": "code",
   "execution_count": null,
   "metadata": {},
   "outputs": [
    {
     "ename": "",
     "evalue": "",
     "output_type": "error",
     "traceback": [
      "\u001b[1;31mFailed to start the Kernel. \n",
      "\u001b[1;31mDaemon Connection Closed\n",
      "\u001b[1;31m/opt/anaconda3/lib/python3.9/site-packages/traitlets/traitlets.py:2202: FutureWarning: Supporting extra quotes around strings is deprecated in traitlets 5.0. You can use '/Users/xusenqin/Desktop/FEM' instead of '\"/Users/xusenqin/Desktop/FEM\"' if you require traitlets >=5.\n",
      "\u001b[1;31m  warn(\n",
      "\u001b[1;31m\n",
      "\u001b[1;31mFailed to run jupyter as observable with args notebook --no-browser --notebook-dir=\"/Users/xusenqin/Desktop/FEM\" --config=/var/folders/hd/mc7xhwh55r3c7crzjnccdypr0000gn/T/0ddac647-bbdd-4cb3-a585-84f615fe2a4e/jupyter_notebook_config.py --NotebookApp.iopub_data_rate_limit=10000000000.0. \n",
      "\u001b[1;31mView Jupyter <a href='command:jupyter.viewOutput'>log</a> for further details."
     ]
    }
   ],
   "source": [
    "def f(x, a, xb=0.8):\n",
    "    return (1 - x) * (sp.atan(a * (x - xb)) + sp.atan(a*xb))\n",
    "def d2f(x, a, xb=0.8):\n",
    "    b = x-xb\n",
    "    return -2*(a+a**3*b*(b-x+1))/(a**2*b**2+1)*2\n",
    "\n",
    "x = symbols('x')\n",
    "x_data = np.linspace(0, 1, 100)\n",
    "a = [0.5, 50]\n",
    "xb = 0.8\n",
    "\n",
    "for i in a:\n",
    "    f_ = f(x, i)\n",
    "    f_func = lambdify(x, f_)\n",
    "    print(f_)\n",
    "    #plt.figure()\n",
    "    plt.plot(x_data, f_func(x_data))\n",
    "\n",
    "plt.figure()\n",
    "for i in a:\n",
    "    df_ = diff(f(x, i), x)\n",
    "    df_func = lambdify(x, df_)\n",
    "    print(df_)\n",
    "\n",
    "    plt.plot(x_data, df_func(x_data))\n",
    "    print(df_func(0))\n",
    "\n"
   ]
  },
  {
   "cell_type": "code",
   "execution_count": null,
   "metadata": {},
   "outputs": [
    {
     "ename": "",
     "evalue": "",
     "output_type": "error",
     "traceback": [
      "\u001b[1;31mFailed to start the Kernel. \n",
      "\u001b[1;31mDaemon Connection Closed\n",
      "\u001b[1;31m/opt/anaconda3/lib/python3.9/site-packages/traitlets/traitlets.py:2202: FutureWarning: Supporting extra quotes around strings is deprecated in traitlets 5.0. You can use '/Users/xusenqin/Desktop/FEM' instead of '\"/Users/xusenqin/Desktop/FEM\"' if you require traitlets >=5.\n",
      "\u001b[1;31m  warn(\n",
      "\u001b[1;31m\n",
      "\u001b[1;31mFailed to run jupyter as observable with args notebook --no-browser --notebook-dir=\"/Users/xusenqin/Desktop/FEM\" --config=/var/folders/hd/mc7xhwh55r3c7crzjnccdypr0000gn/T/0ddac647-bbdd-4cb3-a585-84f615fe2a4e/jupyter_notebook_config.py --NotebookApp.iopub_data_rate_limit=10000000000.0. \n",
      "\u001b[1;31mView Jupyter <a href='command:jupyter.viewOutput'>log</a> for further details."
     ]
    }
   ],
   "source": [
    "\n"
   ]
  }
 ],
 "metadata": {
  "kernelspec": {
   "display_name": "Python 3.9.13 ('FEM')",
   "language": "python",
   "name": "python3"
  },
  "language_info": {
   "codemirror_mode": {
    "name": "ipython",
    "version": 3
   },
   "file_extension": ".py",
   "mimetype": "text/x-python",
   "name": "python",
   "nbconvert_exporter": "python",
   "pygments_lexer": "ipython3",
   "version": "3.9.13"
  },
  "orig_nbformat": 4,
  "vscode": {
   "interpreter": {
    "hash": "a7466aeba1e85330f36992c808c82877f791cb8b6f81d46eb0815bfd4b4f97e1"
   }
  }
 },
 "nbformat": 4,
 "nbformat_minor": 2
}
