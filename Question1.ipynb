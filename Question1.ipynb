{
 "cells": [
  {
   "cell_type": "code",
   "execution_count": 2,
   "metadata": {},
   "outputs": [],
   "source": [
    "import torch\n",
    "from torch import atan\n",
    "import numpy as np\n",
    "import matplotlib.pyplot as plt\n",
    "from scipy.interpolate  import lagrange\n",
    "from sympy import symbols, integrate, sinh, E, diff\n",
    "import sympy as sp\n",
    "from scipy.special import roots_legendre\n"
   ]
  },
  {
   "cell_type": "code",
   "execution_count": 3,
   "metadata": {},
   "outputs": [
    {
     "name": "stdout",
     "output_type": "stream",
     "text": [
      "3.2\n"
     ]
    }
   ],
   "source": [
    "p, w = np.polynomial.legendre.leggauss(1)\n",
    "f = lambda x: 4.0/(1 + x*x)\n",
    "ans = 0.5*f(0.5*p + 0.5).dot(w)\n",
    "print(ans)"
   ]
  },
  {
   "cell_type": "code",
   "execution_count": 4,
   "metadata": {},
   "outputs": [
    {
     "name": "stdout",
     "output_type": "stream",
     "text": [
      "0.0378828427399902\n"
     ]
    }
   ],
   "source": [
    "x = symbols('x')\n",
    "u = -2*E/(E**2 - 1)*sinh(x) + x\n",
    "print(integrate(u, (x, 0, 1)).evalf())\n"
   ]
  },
  {
   "cell_type": "code",
   "execution_count": 5,
   "metadata": {},
   "outputs": [],
   "source": [
    "def f(x):\n",
    "    return -2*E/(E**2 - 1)*sinh(x) + x\n",
    "def G_integrate(u, x, N=3, scale=(0, 1)):\n",
    "    N=N #取3个样本点\n",
    "    a,b = scale #积分上下限\n",
    "    x,w = roots_legendre(N)\n",
    "\n",
    "    xp = x*(b-a)/2+(b+a)/2\n",
    "    wp = w*(b-a)/2\n",
    "\n",
    "    s = 0\n",
    "    for i in range(N):\n",
    "        s+=wp[i]*u(xp[i])\n",
    "    return s.evalf()\n",
    "    \n",
    "\n"
   ]
  },
  {
   "cell_type": "code",
   "execution_count": 6,
   "metadata": {},
   "outputs": [
    {
     "data": {
      "text/plain": [
       "0.010085711047253657"
      ]
     },
     "execution_count": 6,
     "metadata": {},
     "output_type": "execute_result"
    }
   ],
   "source": [
    "un = 0.14588*x*(1-x) + 0.16279*x**2*(1-x)\n",
    "\n",
    "du = diff(u, x)\n",
    "\n",
    "def error(u, uh):\n",
    "    du = diff(u, x)\n",
    "    B = integrate((du**2+u**2), (x, 0, 1))\n",
    "    A = (1/2*B)**0.5\n",
    "    dut = diff(un-u, x)\n",
    "    Bt = integrate((dut**2+(un-u)**2), (x, 0, 1))\n",
    "    At = (1/2*Bt)**0.5\n",
    "    return float(At.evalf()/A.evalf())\n",
    "error(u, un)"
   ]
  },
  {
   "cell_type": "code",
   "execution_count": 13,
   "metadata": {},
   "outputs": [
    {
     "data": {
      "text/latex": [
       "$\\displaystyle 0.16279 x^{2} \\cdot \\left(1.0 - x\\right) + 0.14588 x \\left(1.0 - x\\right)$"
      ],
      "text/plain": [
       "0.16279*x**2*(1.0 - x) + 0.14588*x*(1.0 - x)"
      ]
     },
     "execution_count": 13,
     "metadata": {},
     "output_type": "execute_result"
    }
   ],
   "source": [
    "un.evalf()"
   ]
  },
  {
   "cell_type": "code",
   "execution_count": 8,
   "metadata": {},
   "outputs": [
    {
     "data": {
      "text/latex": [
       "$\\displaystyle \\frac{1}{3}$"
      ],
      "text/plain": [
       "1/3"
      ]
     },
     "execution_count": 8,
     "metadata": {},
     "output_type": "execute_result"
    }
   ],
   "source": [
    "x = symbols('x')\n",
    "t = x\n",
    "f = t**2\n",
    "A = integrate(f, (x, 0, 1))\n",
    "\n",
    "A"
   ]
  },
  {
   "cell_type": "code",
   "execution_count": 9,
   "metadata": {},
   "outputs": [],
   "source": [
    "\n",
    "def function(x, a, xb):\n",
    "    dx = torch.tensor(x, requires_grad=True)\n",
    "    constant = torch.zeros_like(dx)\n",
    "    for i in range(len(x)):\n",
    "        constant[i] = a * xb\n",
    "    dy = (1 - dx) * (atan(a * (dx - xb)) + \n",
    "                     atan(constant))\n",
    "    #print(dx.grad)\n",
    "    return dy\n",
    "\n",
    "def lagrange(x, y, num_points, x_test):\n",
    "    # 所有的基函数值，每个元素代表一个基函数的值\n",
    "    l = np.zeros(shape=(num_points, ))\n",
    "\n",
    "    # 计算第k个基函数的值\n",
    "    for k in range(num_points):\n",
    "        # 乘法时必须先有一个值\n",
    "        # 由于l[k]肯定会被至少乘n次，所以可以取1\n",
    "        l[k] = 1\n",
    "        # 计算第k个基函数中第k_个项（每一项：分子除以分母）\n",
    "        for k_ in range(num_points):\n",
    "            # 这里没搞清楚，书中公式上没有对k=k_时，即分母为0进行说明\n",
    "            # 有些资料上显示k是不等于k_的\n",
    "            if k != k_:\n",
    "                # 基函数需要通过连乘得到\n",
    "                l[k] = l[k]*(x_test-x[k_])/(x[k]-x[k_])\n",
    "            else:\n",
    "                pass \n",
    "    # 计算当前需要预测的x_test对应的y_test值        \n",
    "    L = 0\n",
    "    for i in range(num_points):\n",
    "        # 求所有基函数值的和\n",
    "        L += y[i]*l[i]\n",
    "    return L\n",
    "\n",
    "def error(u, uh):\n",
    "    error = 0\n",
    "    # for i in range(len(u)):\n",
    "    #     error+=np.linalg.norm((u[i]-uh[i])/u[i])\n",
    "    error = (np.linalg.norm(u-uh))/np.linalg.norm(u)\n",
    "    return error\n",
    "    \n",
    "\n",
    "def h_version(x, a, xb):\n",
    "    dx = torch.tensor(x, requires_grad=True)\n",
    "    constant = torch.zeros_like(dx)\n",
    "    for i in range(len(x)):\n",
    "        constant[i] = a * xb\n",
    "    dy = (1 - dx) * (atan(a * (dx - xb)) + \n",
    "                     atan(constant))\n",
    "\n",
    "    y = dy.mean()\n",
    "    y.backward()\n",
    "    dy_dx = dx.grad\n",
    "    return dx, dy, dy_dx\n",
    "\n",
    "def h_plot(dx, dy, dy_dx):\n",
    "    pass\n"
   ]
  },
  {
   "cell_type": "code",
   "execution_count": 10,
   "metadata": {},
   "outputs": [
    {
     "name": "stdout",
     "output_type": "stream",
     "text": [
      "y tensor([0.0000, 0.0036, 0.0075, 0.0119, 0.0173, 0.0252, 0.0413, 0.1573, 0.3217,\n",
      "        0.0000], dtype=torch.float64, grad_fn=<MulBackward0>)\n"
     ]
    },
    {
     "ename": "TypeError",
     "evalue": "lagrange() missing 2 required positional arguments: 'num_points' and 'x_test'",
     "output_type": "error",
     "traceback": [
      "\u001b[0;31m---------------------------------------------------------------------------\u001b[0m",
      "\u001b[0;31mTypeError\u001b[0m                                 Traceback (most recent call last)",
      "\u001b[1;32m/Users/qinxusen/Desktop/FEM/Question1.ipynb Cell 9\u001b[0m in \u001b[0;36m<cell line: 16>\u001b[0;34m()\u001b[0m\n\u001b[1;32m      <a href='vscode-notebook-cell:/Users/qinxusen/Desktop/FEM/Question1.ipynb#X11sZmlsZQ%3D%3D?line=5'>6</a>\u001b[0m \u001b[39mprint\u001b[39m(\u001b[39m'\u001b[39m\u001b[39my\u001b[39m\u001b[39m'\u001b[39m, y)\n\u001b[1;32m      <a href='vscode-notebook-cell:/Users/qinxusen/Desktop/FEM/Question1.ipynb#X11sZmlsZQ%3D%3D?line=6'>7</a>\u001b[0m \u001b[39m# def h(x,y,a):\u001b[39;00m\n\u001b[1;32m      <a href='vscode-notebook-cell:/Users/qinxusen/Desktop/FEM/Question1.ipynb#X11sZmlsZQ%3D%3D?line=7'>8</a>\u001b[0m \u001b[39m#     ans=0.0\u001b[39;00m\n\u001b[1;32m      <a href='vscode-notebook-cell:/Users/qinxusen/Desktop/FEM/Question1.ipynb#X11sZmlsZQ%3D%3D?line=8'>9</a>\u001b[0m \u001b[39m#     for i in range(len(y)):\u001b[39;00m\n\u001b[0;32m   (...)\u001b[0m\n\u001b[1;32m     <a href='vscode-notebook-cell:/Users/qinxusen/Desktop/FEM/Question1.ipynb#X11sZmlsZQ%3D%3D?line=13'>14</a>\u001b[0m \u001b[39m#         ans +=t\u001b[39;00m\n\u001b[1;32m     <a href='vscode-notebook-cell:/Users/qinxusen/Desktop/FEM/Question1.ipynb#X11sZmlsZQ%3D%3D?line=14'>15</a>\u001b[0m \u001b[39m#     return ans\u001b[39;00m\n\u001b[0;32m---> <a href='vscode-notebook-cell:/Users/qinxusen/Desktop/FEM/Question1.ipynb#X11sZmlsZQ%3D%3D?line=15'>16</a>\u001b[0m ret \u001b[39m=\u001b[39m lagrange(x, y\u001b[39m.\u001b[39;49mdetach()\u001b[39m.\u001b[39;49mnumpy())\n\u001b[1;32m     <a href='vscode-notebook-cell:/Users/qinxusen/Desktop/FEM/Question1.ipynb#X11sZmlsZQ%3D%3D?line=17'>18</a>\u001b[0m \u001b[39mprint\u001b[39m(error(y\u001b[39m.\u001b[39mdetach()\u001b[39m.\u001b[39mnumpy(), ret(x)))\n",
      "\u001b[0;31mTypeError\u001b[0m: lagrange() missing 2 required positional arguments: 'num_points' and 'x_test'"
     ]
    }
   ],
   "source": [
    "\n",
    "x = np.linspace(0, 1, 10)\n",
    "a = 50\n",
    "xb = 0.8\n",
    "\n",
    "y = function(x, a, xb)\n",
    "print('y', y)\n",
    "# def h(x,y,a):\n",
    "#     ans=0.0\n",
    "#     for i in range(len(y)):\n",
    "#         t=y[i]\n",
    "#         for j in range(len(y)):\n",
    "#             if i !=j:\n",
    "#                 t*=(a-x[j])/(x[i]-x[j])\n",
    "#         ans +=t\n",
    "#     return ans\n",
    "ret = lagrange(x, y.detach().numpy())\n",
    "\n",
    "print(error(y.detach().numpy(), ret(x)))"
   ]
  },
  {
   "cell_type": "code",
   "execution_count": null,
   "metadata": {},
   "outputs": [
    {
     "data": {
      "image/png": "[encoded data removed]",
      "text/plain": [
       "<Figure size 432x288 with 1 Axes>"
      ]
     },
     "metadata": {
      "needs_background": "light"
     },
     "output_type": "display_data"
    },
    {
     "data": {
      "image/png": "[encoded data removed]",
      "text/plain": [
       "<Figure size 432x288 with 1 Axes>"
      ]
     },
     "metadata": {
      "needs_background": "light"
     },
     "output_type": "display_data"
    }
   ],
   "source": [
    "\n",
    "x = np.linspace(0, 1, 100)\n",
    "a = [0.5, 50]\n",
    "xb = 0.8\n",
    "elem = [2, 4, 6, 16, 32]\n",
    "\n",
    "\n",
    "    \n",
    "plt.figure()\n",
    "for i in range(len(a)):\n",
    "    dx, dy, dy_dx = h_version(x, a[i], xb)\n",
    "    plt.plot(dx.detach().numpy(), dy.detach().numpy(), label='a=%s' % a[i])\n",
    "plt.legend(loc=\"upper left\")\n",
    "plt.show()\n",
    "\n",
    "plt.figure()\n",
    "for i in range(len(a)):\n",
    "    dx, dy, dy_dx = h_version(x, a[i], xb)\n",
    "    plt.plot(dx.detach().numpy(), dy_dx.detach().numpy(), label='a=%s' % a[i])\n",
    "\n",
    "plt.legend(loc=\"upper left\")\n",
    "plt.show()\n"
   ]
  }
 ],
 "metadata": {
  "kernelspec": {
   "display_name": "Python 3.9.12 ('comp2')",
   "language": "python",
   "name": "python3"
  },
  "language_info": {
   "codemirror_mode": {
    "name": "ipython",
    "version": 3
   },
   "file_extension": ".py",
   "mimetype": "text/x-python",
   "name": "python",
   "nbconvert_exporter": "python",
   "pygments_lexer": "ipython3",
   "version": "3.9.12"
  },
  "orig_nbformat": 4,
  "vscode": {
   "interpreter": {
    "hash": "08a0b207c3eba0a5bb4cbf2f03f6a5ddbcc34f1a6505e46237e72614b95fc4ee"
   }
  }
 },
 "nbformat": 4,
 "nbformat_minor": 2
}
