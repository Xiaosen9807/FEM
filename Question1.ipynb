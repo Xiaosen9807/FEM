{
 "cells": [
  {
   "cell_type": "code",
   "execution_count": 32,
   "metadata": {},
   "outputs": [],
   "source": [
    "import torch\n",
    "from torch import atan\n",
    "from torch.autograd import grad\n",
    "import numpy as np\n",
    "import matplotlib.pyplot as plt\n",
    "from scipy.interpolate import lagrange\n",
    "from scipy.misc import derivative\n",
    "import scipy.linalg as la\n",
    "\n",
    "from sympy import *\n",
    "import sympy as sp\n",
    "from scipy.special import roots_legendre\n",
    "from Func import *\n",
    "import pandas as pd\n"
   ]
  },
  {
   "cell_type": "code",
   "execution_count": 33,
   "metadata": {},
   "outputs": [
    {
     "data": {
      "text/latex": [
       "$\\displaystyle \\left\\lceil{x \\left(1 - x\\right) e^{x} - 2 x e^{x} + 2 \\cdot \\left(1 - x\\right) e^{x} - 2 e^{x}}\\right\\rceil$"
      ],
      "text/plain": [
       "ceiling(x*(1 - x)*exp(x) - 2*x*exp(x) + 2*(1 - x)*exp(x) - 2*exp(x))"
      ]
     },
     "execution_count": 33,
     "metadata": {},
     "output_type": "execute_result"
    }
   ],
   "source": [
    "x = symbols('x')\n",
    "fx = x * (1 - x) * sp.exp(x)\n",
    "dfdx = diff(fx, x)\n",
    "\n",
    "df2d2x = diff(diff(fx, x), x)\n",
    "ceiling(df2d2x)\n"
   ]
  },
  {
   "cell_type": "code",
   "execution_count": 34,
   "metadata": {},
   "outputs": [
    {
     "name": "stdout",
     "output_type": "stream",
     "text": [
      "0.00199141226604224\n",
      "0.00199141226604224\n"
     ]
    }
   ],
   "source": [
    "# 有限元分析的数学建模page 21\n",
    "# def error(u, un):\n",
    "#   x = symbols('x')\n",
    "#   du = diff(u, x)\n",
    "#   B = G_integrate(du**2+u**2, x)\n",
    "#   A = (1/2*B)**0.5\n",
    "#   dun = diff(un, x)\n",
    "#   Bn = G_integrate(dun**2+(un)**2, x)\n",
    "#   Aup = (0.5*B-0.5*Bn)**0.5\n",
    "\n",
    "#   return float((Aup.evalf()/A.evalf()))\n",
    "# def cal_U(u):\n",
    "#   x = symbols('x')\n",
    "#   du = diff(u, x)\n",
    "#   B = integrate(du**2+u**2, (x, 0, 1))\n",
    "#   B = G_integrate(du**2+u**2, x)\n",
    "#   U = (1/2*B)**0.5\n",
    "#   return U.evalf()\n",
    "  \n",
    "\n",
    "def u(x):\n",
    "    return -2*E/(E**2-1)*sinh(x)+x\n",
    "\n",
    "def uh(x):\n",
    "  return 0.14588*x*(1-x) + 0.16279*x**2*(1-x)\n",
    "\n",
    "#print(error(u(x), uh(x)))\n",
    "print(cal_U(u(x)-uh(x))/cal_U(u(x)))\n",
    "print(error(u(x), uh(x)))"
   ]
  },
  {
   "cell_type": "code",
   "execution_count": 35,
   "metadata": {},
   "outputs": [
    {
     "name": "stdout",
     "output_type": "stream",
     "text": [
      "   3  0.0894667\n"
     ]
    }
   ],
   "source": [
    "def l2_error_quadratic(n, x, u, exact):\n",
    "\n",
    "  # *****************************************************************************80\n",
    "  #\n",
    "  # l2_error_quadratic() estimates the L2 error norm of a finite element solution.\n",
    "  #\n",
    "  #  Discussion:\n",
    "  #\n",
    "  #    We assume the finite element method has been used, over an interval [A,B]\n",
    "  #    involving N nodes, with piecewise quadratic elements used for the basis.\n",
    "  #    The coefficients U(1:N) have been computed, and a formula for the\n",
    "  #    exact solution is known.\n",
    "  #\n",
    "  #    This function estimates the L2 norm of the error:\n",
    "  #\n",
    "  #      L2_NORM = Integral ( A <= X <= B ) ( U(X) - EXACT(X) )^2 dX\n",
    "  #\n",
    "  #  Licensing:\n",
    "  #\n",
    "  #    This code is distributed under the GNU LGPL license.\n",
    "  #\n",
    "  #  Modified:\n",
    "  #\n",
    "  #    12 July 2015\n",
    "  #\n",
    "  #  Author:\n",
    "  #\n",
    "  #    John Burkardt\n",
    "  #\n",
    "  #  Input:\n",
    "  #\n",
    "  #    integer N, the number of nodes.\n",
    "  #\n",
    "  #    real X(N), the mesh points.\n",
    "  #\n",
    "  #    real U(N), the finite element coefficients.\n",
    "  #\n",
    "  #    function EQ = EXACT ( X ), returns the value of the exact\n",
    "  #    solution at the point X.\n",
    "  #\n",
    "  #  Output:\n",
    "  #\n",
    "  #    real E2, the estimated L2 norm of the error.\n",
    "  #\n",
    "\n",
    "    e2 = 0.0\n",
    "  #\n",
    "  #  Define a 2 point Gauss-Legendre quadrature rule on [-1,+1].\n",
    "  #\n",
    "    quad_num = 2\n",
    "    abscissa = np.array([-0.577350269189625764509148780502,\n",
    "                         +0.577350269189625764509148780502])\n",
    "    weight = np.array([1.0, 1.0])\n",
    "  #\n",
    "  #  Integrate over each interval.\n",
    "  #\n",
    "    e_num = (n - 1) // 2\n",
    "\n",
    "    for e in range(0, e_num):\n",
    "\n",
    "        l = 2 * e\n",
    "        xl = x[l]\n",
    "        ul = u[l]\n",
    "\n",
    "        m = 2 * e + 1\n",
    "        xm = x[m]\n",
    "        um = u[m]\n",
    "\n",
    "        r = 2 * e + 2\n",
    "        xr = x[r]\n",
    "        ur = u[r]\n",
    "\n",
    "        for q in range(0, quad_num):\n",
    "\n",
    "            xq = ((1.0 - abscissa[q]) * xl\n",
    "                  + (1.0 + abscissa[q]) * xr) \\\n",
    "                / 2.0\n",
    "\n",
    "            wq = weight[q] * (xr - xl) / 2.0\n",
    "\n",
    "            vl = ((xq - xm) / (xl - xm)) \\\n",
    "                * ((xq - xr) / (xl - xr))\n",
    "\n",
    "            vm = ((xq - xl) / (xm - xl)) \\\n",
    "                * ((xq - xr) / (xm - xr))\n",
    "\n",
    "            vr = ((xq - xl) / (xr - xl)) \\\n",
    "                * ((xq - xm) / (xr - xm))\n",
    "\n",
    "            uq = u[l] * vl + u[m] * vm + u[r] * vr\n",
    "\n",
    "            eq = exact(xq)\n",
    "\n",
    "            e2 = e2 + wq * (uq - eq) ** 2\n",
    "\n",
    "    e2 = np.sqrt(e2)\n",
    "\n",
    "    return e2\n",
    "\n",
    "\n",
    "x_n = 3\n",
    "\n",
    "x_lo = 0.0\n",
    "x_hi = np.pi\n",
    "x = np.linspace(x_lo, x_hi, x_n)\n",
    "\n",
    "# U is an approximation to sin(x).\n",
    "\n",
    "u = np.zeros(x_n)\n",
    "for i in range(0, x_n):\n",
    "    u[i] = np.sin(x[i])\n",
    "\n",
    "e1 = l2_error_quadratic(x_n, x, u, np.sin)\n",
    "\n",
    "print('  %2d  %g' % (x_n, e1))\n"
   ]
  },
  {
   "cell_type": "code",
   "execution_count": 36,
   "metadata": {},
   "outputs": [
    {
     "name": "stdout",
     "output_type": "stream",
     "text": [
      "(1 - x)*(atan(0.5*x - 0.4) + 0.380506377112365)\n",
      "(1 - x)*(atan(50*x - 40.0) + 1.54580153317598)\n",
      "0.5*(1 - x)/(0.25*(x - 0.8)**2 + 1) - atan(0.5*x - 0.4) - 0.380506377112365\n",
      "0.43103448275862055\n",
      "50*(1 - x)/(2500*(x - 0.8)**2 + 1) - atan(50*x - 40.0) - 1.54580153317598\n",
      "0.03123048094940306\n"
     ]
    },
    {
     "data": {
      "image/png": "[encoded data removed]",
      "text/plain": [
       "<Figure size 640x480 with 1 Axes>"
      ]
     },
     "metadata": {},
     "output_type": "display_data"
    },
    {
     "data": {
      "image/png": "[encoded data removed]",
      "text/plain": [
       "<Figure size 640x480 with 1 Axes>"
      ]
     },
     "metadata": {},
     "output_type": "display_data"
    }
   ],
   "source": [
    "def f(x, a, xb=0.8):\n",
    "    return (1 - x) * (sp.atan(a * (x - xb)) + sp.atan(a*xb))\n",
    "def d2f(x, a, xb=0.8):\n",
    "    b = x-xb\n",
    "    return -2*(a+a**3*b*(b-x+1))/(a**2*b**2+1)**2\n",
    "\n",
    "x = symbols('x')\n",
    "x_data = np.linspace(0, 1, 100)\n",
    "a = [0.5, 50]\n",
    "xb = 0.8\n",
    "\n",
    "for i in a:\n",
    "    f_ = f(x, i)\n",
    "    f_func = lambdify(x, f_)\n",
    "    print(f_)\n",
    "    #plt.figure()\n",
    "    plt.plot(x_data, f_func(x_data))\n",
    "\n",
    "plt.figure()\n",
    "for i in a:\n",
    "    df_ = diff(f(x, i), x)\n",
    "    df_func = lambdify(x, df_)\n",
    "    print(df_)\n",
    "\n",
    "    plt.plot(x_data, df_func(x_data))\n",
    "    print(df_func(0))\n",
    "\n"
   ]
  },
  {
   "cell_type": "code",
   "execution_count": 37,
   "metadata": {},
   "outputs": [
    {
     "name": "stdout",
     "output_type": "stream",
     "text": [
      "[-0.77459667  0.          0.77459667] [0.55555556 0.88888889 0.55555556]\n",
      "0.5555555555555556\n"
     ]
    }
   ],
   "source": [
    "N = 3  # 取3个样本点\n",
    "a = 0  # 积分上下限\n",
    "b = 1\n",
    "x, w = roots_legendre(N)\n",
    "print(x, w)\n",
    "print(5/9)"
   ]
  },
  {
   "cell_type": "code",
   "execution_count": 38,
   "metadata": {},
   "outputs": [
    {
     "data": {
      "image/png": "[encoded data removed]",
      "text/plain": [
       "<Figure size 640x480 with 1 Axes>"
      ]
     },
     "metadata": {},
     "output_type": "display_data"
    },
    {
     "data": {
      "image/png": "[encoded data removed]",
      "text/plain": [
       "<Figure size 640x480 with 1 Axes>"
      ]
     },
     "metadata": {},
     "output_type": "display_data"
    }
   ],
   "source": [
    "from sympy import *\n",
    "import matplotlib.pyplot as plt\n",
    "\n",
    "x=symbols(\"x\")\n",
    "#legendre的n阶多项式\n",
    "def legendre_polynomial(n):\n",
    "    '''\n",
    "    :param n: legendre多项式项数\n",
    "    :return: legendre的n项展开\n",
    "    '''\n",
    "\n",
    "    P = [1, x]\n",
    "    for i in range(1,n):\n",
    "        m=(2*i+1)/(i+1)*x*P[i]-i/(i+1)*P[i-1]\n",
    "        P.append(m)\n",
    "    return P[n]\n",
    "P_n=legendre_polynomial(3)\n",
    "x1=[]\n",
    "y1=[]\n",
    "for i in range(200):\n",
    "    x1.append(-1+0.01*i)\n",
    "for i in x1:\n",
    "    y1.append(P_n.subs('x',i))\n",
    "\n",
    "plt.plot(x1,y1)\n",
    "plt.show()\n",
    "#legendre的n阶多项式的m次导数\n",
    "def Derivation(function,m):   #多阶求导\n",
    "    \"\"\"\n",
    "    :param function : 待求导数的函数\n",
    "    :param m: 求导阶数\n",
    "    :return: legendre的n阶多项式的m次导数\n",
    "    \"\"\"\n",
    "    for i in range(m):  #逐次求导  ，共m次\n",
    "        f = diff(function, x, m)\n",
    "    return f\n",
    "\n",
    "der=Derivation(P_n,2)\n",
    "\n",
    "y_value=[]\n",
    "for i in x1:\n",
    "    y_value.append(der.subs('x',i))\n",
    "\n",
    "plt.plot(x1,y_value)\n",
    "plt.show()"
   ]
  },
  {
   "cell_type": "code",
   "execution_count": 39,
   "metadata": {},
   "outputs": [
    {
     "name": "stdout",
     "output_type": "stream",
     "text": [
      "(-0.05*x - 0.96)/(0.0625*x**4 - 0.2*x**3 + 0.74*x**2 - 0.928*x + 1.3456)\n",
      "-0.0371581450653983*x/(0.0464476813317479*x**4 - 0.148632580261593*x**3 + 0.549940546967895*x**2 - 0.689655172413793*x + 1) - 0.713436385255648/(0.0464476813317479*x**4 - 0.148632580261593*x**3 + 0.549940546967895*x**2 - 0.689655172413793*x + 1)\n",
      "0.25*(x - 0.8)**2 + 1\n"
     ]
    }
   ],
   "source": [
    "x = symbols('x')\n",
    "u = symbols('u')\n",
    "a = 0.5\n",
    "xb = 0.8\n",
    "b = x-xb\n",
    "\n",
    "\n",
    "def f(x, a=0.5, xb=0.8):\n",
    "    return (1 - x) * (sp.atan(a * (x - xb)) + sp.atan(a*xb))\n",
    "\n",
    "\n",
    "def d2f(x, a=0.5, xb=0.8):\n",
    "    b = x-xb\n",
    "\n",
    "    return -2*(a+a**3*b*(b-x+1))/(a**2*b**2+1)**2\n",
    "\n",
    "def testfunc(x, a=0.5, xb=0.8):\n",
    "  return (0.25*(x - 0.8)**2 + 1)\n",
    "\n",
    "print(simplify(diff(diff(f(x), x), x)))\n",
    "print(expand(d2f(x)))\n",
    "print(simplify(testfunc(x)))"
   ]
  },
  {
   "cell_type": "code",
   "execution_count": 40,
   "metadata": {},
   "outputs": [
    {
     "data": {
      "text/latex": [
       "$\\displaystyle - \\frac{0.0371581450653983 x}{0.0464476813317479 x^{4} - 0.148632580261593 x^{3} + 0.549940546967895 x^{2} - 0.689655172413793 x + 1} - \\frac{0.713436385255648}{0.0464476813317479 x^{4} - 0.148632580261593 x^{3} + 0.549940546967895 x^{2} - 0.689655172413793 x + 1}$"
      ],
      "text/plain": [
       "-0.0371581450653983*x/(0.0464476813317479*x**4 - 0.148632580261593*x**3 + 0.549940546967895*x**2 - 0.689655172413793*x + 1) - 0.713436385255648/(0.0464476813317479*x**4 - 0.148632580261593*x**3 + 0.549940546967895*x**2 - 0.689655172413793*x + 1)"
      ]
     },
     "execution_count": 40,
     "metadata": {},
     "output_type": "execute_result"
    }
   ],
   "source": [
    "expand(d2f(x))"
   ]
  },
  {
   "cell_type": "code",
   "execution_count": 41,
   "metadata": {},
   "outputs": [
    {
     "name": "stdout",
     "output_type": "stream",
     "text": [
      "使用拉格朗日多项式得插值法\n",
      "数据点   x    y\n",
      "   1.0000e+00   1.0000e+00\n",
      "   3.0000e+00   3.0000e+00\n",
      "   6.0000e+00   6.0000e+00\n",
      "   5.0000e+00   5.0000e+00\n",
      "插值点    x   y\n",
      "   4.5000e+00   8.1750e+00\n"
     ]
    }
   ],
   "source": [
    "import numpy as np\n",
    "npo=4;xi=4.5\n",
    "x=np.array([1,3,6,5])\n",
    "y=np.array([1,5,10,9])\n",
    "print('使用拉格朗日多项式得插值法')\n",
    "print('数据点','  x    y')\n",
    "for i in range(1,npo+1):\n",
    "    print('{:13.4e}'.format(x[i-1]),end='')\n",
    "    print('{:13.4e}'.format(x[i-1]))\n",
    "yi=0\n",
    "for i in range(1,npo+1):\n",
    "    term=1.0\n",
    "    for j in range(1,npo+1):\n",
    "        if j!=i:\n",
    "            term=term*(xi-x[j-1])/(x[i-1]-x[j-1])\n",
    "    yi=yi+term*y[i-1]\n",
    "print('插值点','   x   y')\n",
    "print('{:13.4e}'.format(xi),end='')\n",
    "print('{:13.4e}'.format(yi))\n"
   ]
  },
  {
   "cell_type": "code",
   "execution_count": 42,
   "metadata": {},
   "outputs": [
    {
     "data": {
      "text/plain": [
       "([array([0.5 , 0.25, 0.  ]),\n",
       "  array([0.5 , 0.75, 1.  ]),\n",
       "  array([-0.61237244, -0.45927933,  0.        ]),\n",
       "  array([-0.        , -0.29646353,  0.        ]),\n",
       "  array([ 0.23385359, -0.04384755,  0.        ]),\n",
       "  array([0.        , 0.12429611, 0.        ])],\n",
       " [array([-0.5, -0.5, -0.5]),\n",
       "  array([0.5, 0.5, 0.5]),\n",
       "  array([0.        , 0.61237244, 1.22474487]),\n",
       "  array([-0.79056942, -0.19764235,  1.58113883]),\n",
       "  array([-0.        , -0.81848755,  1.87082869]),\n",
       "  array([ 0.79549513, -0.61319416,  2.12132034])])"
      ]
     },
     "execution_count": 42,
     "metadata": {},
     "output_type": "execute_result"
    }
   ],
   "source": [
    "\n",
    "x = symbols(\"x\")\n",
    "def Legendre(x=np.linspace(-1, 1, 100), p=5 ):\n",
    "\n",
    "    if p == 0:\n",
    "        return 1\n",
    "    elif p == 1:\n",
    "        return x\n",
    "    \n",
    "    else:\n",
    "      return ((2*p-1)*x*Legendre(x, p-1)+(1-p)*Legendre(x, p-2))/p\n",
    "\n",
    "def Hierarchical(x=np.linspace(0, 1, 3), p=5):\n",
    "    phi = []\n",
    "    dphi = []\n",
    "    phi.append((1-x)/2)\n",
    "    phi.append((1+x)/2)\n",
    "    dphi.append(np.zeros_like(x)-1/2)\n",
    "    dphi.append(np.zeros_like(x)+1/2)\n",
    "    \n",
    "    for j in range(2, p+1):\n",
    "        phi.append(1/np.sqrt(4*j-2)*(Legendre(x, j)-Legendre(x, j-2)))\n",
    "        dphi.append(np.sqrt(j-1/2)*(Legendre(x, j-1)))\n",
    "        \n",
    "    return phi, dphi\n",
    "\n",
    "Hierarchical()"
   ]
  },
  {
   "cell_type": "code",
   "execution_count": 43,
   "metadata": {},
   "outputs": [
    {
     "name": "stdout",
     "output_type": "stream",
     "text": [
      "[ 0.         -0.1993373  -0.20322079 -0.19911949 -0.18812247 -0.08904958]\n",
      "[[ 1.  0.  0.  0.  0.  0.]\n",
      " [-5. 10. -5.  0.  0.  0.]\n",
      " [ 0. -5. 10. -5.  0.  0.]\n",
      " [ 0.  0. -5. 10. -5.  0.]\n",
      " [ 0.  0.  0. -5. 10. -5.]\n",
      " [ 0.  0.  0.  0.  0.  1.]]\n",
      "_-----------------------\n",
      " [ 0.         -0.1993373  -0.20322079 -0.19911949 -0.18812247  0.        ]\n"
     ]
    },
    {
     "data": {
      "image/png": "[encoded data removed]",
      "text/plain": [
       "<Figure size 640x480 with 1 Axes>"
      ]
     },
     "metadata": {},
     "output_type": "display_data"
    }
   ],
   "source": [
    "# %%\n",
    "\n",
    "import numpy as np\n",
    "import matplotlib.pyplot as plt\n",
    "import numpy as np\n",
    "import scipy.linalg as la\n",
    "import time\n",
    "\n",
    "\n",
    "def fem1d_linear(f, d2f, n=13):\n",
    "    #\n",
    "    #  Define the mesh, N+1 points between A and B.\n",
    "    #  These will be X[0] through X[N].\n",
    "    #\n",
    "    a = 0.0\n",
    "    b = 1.0\n",
    "    x = np.linspace(a, b, n + 1)\n",
    "#\n",
    "#  Set a 3 point quadrature rule on the reference interval [-1,1].\n",
    "#\n",
    "    q_num = 3\n",
    "\n",
    "    xg = np.array((\n",
    "    -0.774596669241483377035853079956,\n",
    "    0.0,\n",
    "    0.774596669241483377035853079956))\n",
    "\n",
    "    wg = np.array((\n",
    "        5.0 / 9.0,\n",
    "        8.0 / 9.0,\n",
    "        5.0 / 9.0))\n",
    "\n",
    "#\n",
    "#  Compute the system matrix A and right hand side RHS.\n",
    "#\n",
    "    A = np.zeros((n + 1, n + 1))\n",
    "    rhs = np.zeros(n + 1)\n",
    "#\n",
    "#  Look at element E: (0, 1, 2, ..., N-1).\n",
    "#\n",
    "    for e in range(0, n):\n",
    "\n",
    "        xl = x[e]\n",
    "        xr = x[e+1]\n",
    "#\n",
    "#  Consider quadrature point Q: (0, 1, 2 ) in element E.\n",
    "#\n",
    "        for q in range(0, q_num):\n",
    "            #\n",
    "            #  Map XG and WG from [0,1] to\n",
    "            #      XQ and QQ in [XL,XR].\n",
    "            #\n",
    "            # xq = xl + xg[q] * (xr - xl)\n",
    "            # wq = wg[q] * (xr - xl)\n",
    "            # xq = xl + (xg[q] + 1.0) * (xr - xl) / 2.0\n",
    "            # wq = wg[q] * (xr - xl) / 2.0\n",
    "            xq = ((1.0 - xg[q]) * xl + (1.0 + xg[q]) * xr) / 2.0\n",
    "            wq = wg[q] * (xr - xl) / 2.0\n",
    "#\n",
    "#  Consider the I-th test function PHI(I,X) and its derivative PHI'(I,X).\n",
    "#\n",
    "            for i_local in range(0, 2):\n",
    "                i = i_local + e\n",
    "\n",
    "                if (i_local == 0):\n",
    "                    phii = (xq - xr) / (xl - xr)\n",
    "                    phiip = 1 / (xl - xr)\n",
    "                else:\n",
    "                    phii = (xq - xl) / (xr - xl)\n",
    "                    phiip = 1 / (xr - xl)\n",
    "\n",
    "                rhs[i] = rhs[i] + wq * phii * d2f(xq)\n",
    "#\n",
    "#  Consider the J-th basis function PHI(J,X) and its derivative PHI'(J,X).\n",
    "#  (It turns out we don't need PHI for this particular problem, only PHI')\n",
    "#\n",
    "                for j_local in range(0, 2):\n",
    "                    j = j_local + e\n",
    "\n",
    "                    if (j_local == 0):\n",
    "                        phijp = 1 / (xl - xr)\n",
    "                    else:\n",
    "                        phijp = 1 / (xr - xl)\n",
    "                    #print(wq * phiip * phijp)\n",
    "\n",
    "                    A[i][j] = A[i][j] + wq * phiip * phijp\n",
    "#\n",
    "#  Modify the linear system to enforce the left boundary condition.\n",
    "#\n",
    "    A[0, 0] = 1.0\n",
    "    A[0, 1:n+1] = 0.0\n",
    "    rhs[0] = f(x[0])\n",
    "    print(rhs)\n",
    "#\n",
    "#  Modify the linear system to enforce the right boundary condition.\n",
    "#\n",
    "    A[n, n] = 1.0\n",
    "    A[n, 0:n] = 0.0\n",
    "    rhs[n] = f(x[n])\n",
    "\n",
    "    print(A)\n",
    "    print('_-----------------------\\n', rhs)\n",
    "#  Solve the linear system.\n",
    "#\n",
    "    u = la.solve(A, -rhs)\n",
    "\n",
    "#\n",
    "#  Evaluate the exact solution at the nodes.\n",
    "#\n",
    "    uex = np.zeros(n + 1)\n",
    "    for i in range(0, n + 1):\n",
    "        uex[i] = f(x[i])\n",
    "    err = []\n",
    "    for i in range(0, n + 1):\n",
    "        err.append(abs(uex[i] - u[i]))\n",
    "        # print('  %4d  %14.6g  %14.6g  %14.6g' % (i, u[i], uex[i], err))\n",
    "#\n",
    "#  Plot the computed solution and the exact solution.\n",
    "#  Evaluate the exact solution at enough points that the curve will look smooth.\n",
    "#\n",
    "    npp = 51\n",
    "    xp = np.linspace(a, b, npp)\n",
    "    up = np.zeros(npp)\n",
    "    for i in range(0, npp):\n",
    "        up[i] = f(xp[i])\n",
    "\n",
    "    # plt.plot(x, u, 'bo-', xp, up, 'r.')\n",
    "    filename = 'fem1d.png'\n",
    "    plt.savefig(filename)\n",
    "    # plt.show()\n",
    "\n",
    "    # plt.figure()\n",
    "    plt.plot(x, u, 'bo-', label='u')\n",
    "    plt.plot(xp, up, 'r.', label='up')\n",
    "    plt.title('h_linear')\n",
    "    plt.legend()\n",
    "    plt.show()\n",
    "    # print(xp)\n",
    "\n",
    "    return err, u, up\n",
    "\n",
    "\n",
    "def exact_fn(x):\n",
    "\n",
    "    value = (1 - x) * (np.arctan(a * (x - xb)) + np.arctan(a*xb))\n",
    "    # value = x * ( 1 - x ) * np.exp ( x )\n",
    "    return value\n",
    "\n",
    "\n",
    "def rhs_fn(x):  # PDE\n",
    "\n",
    "    B = x-xb\n",
    "    value = -2*(a+a**3*B*(B-x+1))/(a**2*B**2+1)**2\n",
    "    # value = -x * ( x + 3 ) * np.exp ( x )\n",
    "    return value\n",
    "\n",
    "\n",
    "if __name__ == '__main__':\n",
    "    a = 0.5\n",
    "    xb = 0.2\n",
    "    # for i in [6, 11, 21, 41]:\n",
    "    #     err, u, up = fem1d_linear(exact_fn, rhs_fn, i)\n",
    "    err, u, up = fem1d_linear(exact_fn, rhs_fn, 5)\n",
    "    #print(err)\n",
    "    # plt.plot(err)\n",
    "# %%\n",
    "\n",
    "\n"
   ]
  },
  {
   "cell_type": "code",
   "execution_count": 44,
   "metadata": {},
   "outputs": [
    {
     "name": "stdout",
     "output_type": "stream",
     "text": [
      "[ 1  4  9 16]\n",
      "1247.0\n"
     ]
    }
   ],
   "source": [
    "\n",
    "x = np.array([1, 2, 3, 4])\n",
    "\n",
    "print(np.multiply (x, x))\n",
    "print(2.5*390+122+150)"
   ]
  },
  {
   "cell_type": "code",
   "execution_count": 45,
   "metadata": {},
   "outputs": [
    {
     "name": "stdout",
     "output_type": "stream",
     "text": [
      "[[1. 1. 1. 1.]\n",
      " [1. 1. 1. 1.]\n",
      " [1. 1. 1. 1.]]\n",
      "np.dot(y.T, x) [1. 1. 1. 1.]\n",
      "[[0. 1. 0.]\n",
      " [0. 1. 0.]\n",
      " [0. 1. 0.]\n",
      " [0. 1. 0.]]\n",
      "[1. 1. 1. 1.]\n"
     ]
    }
   ],
   "source": [
    "x = np.array([0, 1, 0])\n",
    "y = np.ones((3, 4))\n",
    "print(y)\n",
    "mul = y.T*x\n",
    "print('np.dot(y.T, x)', np.dot(y.T, x))\n",
    "print(mul)\n",
    "print(np.sum(mul, axis=1))"
   ]
  },
  {
   "cell_type": "code",
   "execution_count": 46,
   "metadata": {},
   "outputs": [
    {
     "name": "stdout",
     "output_type": "stream",
     "text": [
      "[[37 40]\n",
      " [85 92]]\n"
     ]
    }
   ],
   "source": [
    "a = np.array([[1,2],[3,4]])\n",
    "b = np.array([[11,12],[13,14]])\n",
    "print(np.dot(a,b))"
   ]
  },
  {
   "cell_type": "code",
   "execution_count": 47,
   "metadata": {},
   "outputs": [
    {
     "name": "stdout",
     "output_type": "stream",
     "text": [
      "[1.         1.11111111 1.22222222 1.33333333 1.44444444 1.55555556\n",
      " 1.66666667 1.77777778 1.88888889 2.        ]\n"
     ]
    },
    {
     "data": {
      "text/plain": [
       "2.0"
      ]
     },
     "execution_count": 47,
     "metadata": {},
     "output_type": "execute_result"
    }
   ],
   "source": [
    "n=9\n",
    "x = np.linspace(1, 2, n+1)\n",
    "print(x)\n",
    "x[n]"
   ]
  },
  {
   "cell_type": "code",
   "execution_count": 48,
   "metadata": {},
   "outputs": [
    {
     "name": "stdout",
     "output_type": "stream",
     "text": [
      "0.33333333333333337\n"
     ]
    },
    {
     "data": {
      "text/latex": [
       "$\\displaystyle x^{2}$"
      ],
      "text/plain": [
       "x**2"
      ]
     },
     "execution_count": 48,
     "metadata": {},
     "output_type": "execute_result"
    }
   ],
   "source": [
    "def G_integrate(u, x, N=3, scale=(0, 1)):\n",
    "  N = N  # 取3个样本点\n",
    "  a = scale[0]  # 积分上下限\n",
    "  b = scale[1]\n",
    "  x, w = roots_legendre(N)\n",
    "  # print(x)\n",
    "\n",
    "  xp = x*(b-a)/2+(b+a)/2\n",
    "  wp = w*(b-a)/2\n",
    "\n",
    "  s = 0\n",
    "  for i in range(N):\n",
    "      s += wp[i]*u(xp[i])\n",
    "  return s\n",
    "\n",
    "def testf(x):\n",
    "  return x**2\n",
    "x=symbols('x')\n",
    "#x=np.linspace(0, 1, 10)\n",
    "print(G_integrate(testf, x))\n",
    "testf(x)"
   ]
  },
  {
   "cell_type": "code",
   "execution_count": 49,
   "metadata": {},
   "outputs": [
    {
     "name": "stdout",
     "output_type": "stream",
     "text": [
      "[1. 5.]\n"
     ]
    },
    {
     "data": {
      "text/plain": [
       "array([6., 6., 6., 6., 6.])"
      ]
     },
     "execution_count": 49,
     "metadata": {},
     "output_type": "execute_result"
    }
   ],
   "source": [
    "x = np.ones((5, 2))\n",
    "y = np.zeros(2)+np.linspace(1, 5, 2)\n",
    "print(y)\n",
    "np.dot(x, y)"
   ]
  },
  {
   "cell_type": "code",
   "execution_count": 50,
   "metadata": {},
   "outputs": [
    {
     "name": "stdout",
     "output_type": "stream",
     "text": [
      "[-1.          0.41716202  0.04191434 -0.33333333 -0.19646395  0.19646395\n",
      "  0.33333333 -0.04191434 -0.41716202  1.        ]\n",
      "[-1.         -0.26382499  0.17804034  0.02433572 -0.22626826  0.22626826\n",
      " -0.02433572 -0.17804034  0.26382499  1.        ]\n",
      "[-0.         -0.29646353  0.        ]\n",
      "[-0.00000000e+00  2.61424340e-02 -2.17732649e-17]\n"
     ]
    }
   ],
   "source": [
    "def Legendre(x=np.linspace(-1, 1, 10), p=5):\n",
    "\n",
    "    if p == 0:\n",
    "        return 1\n",
    "    elif p == 1:\n",
    "        return x\n",
    "\n",
    "    else:\n",
    "        return ((2*p-1)*x*Legendre(x, p-1)+(1-p)*Legendre(x, p-2))/p\n",
    "def Legendre(x=np.linspace(-1, 1, 10), N=5):\n",
    "    \"\"\"\n",
    "    N 为勒让德多项式的阶数\n",
    "    x 为自变量 sym.symbol对象\n",
    "    \"\"\"\n",
    "    if N == 0:\n",
    "        return np.ones_like(x)\n",
    "    if N == 1:\n",
    "        return x\n",
    "    p0 = Legendre(x, 0)\n",
    "    p1 = Legendre(x, 1)\n",
    "    assert N>=2\n",
    "    for i in range(1,N):\n",
    "        p = (2*i+1)/(i+1)*x*p1 - i/(i+1)*p0\n",
    "        p0 = p1\n",
    "        p1 = p\n",
    "    return p1\n",
    "\n",
    "\n",
    "def Hierarchical(x=np.linspace(0, 1, 3), p=5):\n",
    "  if p == 0:\n",
    "      return (1-x)/2, np.zeros_like(x)-0.5\n",
    "  elif p == 1:\n",
    "      return (1+x)/2, np.zeros_like(x)+0.5\n",
    "  else:\n",
    "      return 1/np.sqrt(4*p-2)*(Legendre(x, p)-Legendre(x, p-2)), np.sqrt(p-1/2)*(Legendre(x, p-1))\n",
    "L1=Legendre(N=5)\n",
    "L2 = Legendre(N=9)\n",
    "print(L1)\n",
    "print(L2)\n",
    "print(Hierarchical(p=3)[0])\n",
    "print(Hierarchical(p=7)[0])"
   ]
  },
  {
   "cell_type": "code",
   "execution_count": 51,
   "metadata": {},
   "outputs": [
    {
     "name": "stdout",
     "output_type": "stream",
     "text": [
      "0.33333333333333354\n",
      "2.7755575615628914e-17\n",
      "____________\n",
      "\n"
     ]
    }
   ],
   "source": [
    "N = 10\n",
    "xg, wg=roots_legendre(N)\n",
    "result=0\n",
    "result2=0\n",
    "for p in range(1):\n",
    "  \n",
    "  for i in range(N):\n",
    "    result += Hierarchical(xg[i], p)[0]*Hierarchical(xg[i], p+1)[0]*wg[i]\n",
    "    result2 += Legendre(xg[i], p)*Legendre(xg[i], p+1)*wg[i]\n",
    "    \n",
    "  print(result)\n",
    "  print(result2)\n",
    "  print('____________\\n')\n",
    "    \n"
   ]
  },
  {
   "cell_type": "code",
   "execution_count": 52,
   "metadata": {},
   "outputs": [
    {
     "data": {
      "image/png": "[encoded data removed]",
      "text/plain": [
       "<Figure size 640x480 with 1 Axes>"
      ]
     },
     "metadata": {},
     "output_type": "display_data"
    }
   ],
   "source": [
    "x_data = np.linspace(-1, 1, 50)\n",
    "for p in range(9):\n",
    "  plt.plot(Hierarchical(x_data, p)[1])"
   ]
  },
  {
   "cell_type": "code",
   "execution_count": 57,
   "metadata": {},
   "outputs": [
    {
     "data": {
      "text/html": [
       "<div>\n",
       "<style scoped>\n",
       "    .dataframe tbody tr th:only-of-type {\n",
       "        vertical-align: middle;\n",
       "    }\n",
       "\n",
       "    .dataframe tbody tr th {\n",
       "        vertical-align: top;\n",
       "    }\n",
       "\n",
       "    .dataframe thead th {\n",
       "        text-align: right;\n",
       "    }\n",
       "</style>\n",
       "<table border=\"1\" class=\"dataframe\">\n",
       "  <thead>\n",
       "    <tr style=\"text-align: right;\">\n",
       "      <th></th>\n",
       "      <th>0</th>\n",
       "      <th>1</th>\n",
       "      <th>2</th>\n",
       "      <th>3</th>\n",
       "      <th>4</th>\n",
       "      <th>5</th>\n",
       "      <th>6</th>\n",
       "    </tr>\n",
       "  </thead>\n",
       "  <tbody>\n",
       "    <tr>\n",
       "      <th>0</th>\n",
       "      <td>5.000000e-01</td>\n",
       "      <td>-5.000000e-01</td>\n",
       "      <td>4.163336e-17</td>\n",
       "      <td>3.469447e-16</td>\n",
       "      <td>-6.938894e-18</td>\n",
       "      <td>2.428613e-16</td>\n",
       "      <td>0.000000e+00</td>\n",
       "    </tr>\n",
       "    <tr>\n",
       "      <th>1</th>\n",
       "      <td>-5.000000e-01</td>\n",
       "      <td>5.000000e-01</td>\n",
       "      <td>-4.163336e-17</td>\n",
       "      <td>-3.469447e-16</td>\n",
       "      <td>6.938894e-18</td>\n",
       "      <td>-2.428613e-16</td>\n",
       "      <td>0.000000e+00</td>\n",
       "    </tr>\n",
       "    <tr>\n",
       "      <th>2</th>\n",
       "      <td>4.163336e-17</td>\n",
       "      <td>-4.163336e-17</td>\n",
       "      <td>1.000000e+00</td>\n",
       "      <td>-1.387779e-17</td>\n",
       "      <td>-7.216450e-16</td>\n",
       "      <td>0.000000e+00</td>\n",
       "      <td>-5.273559e-16</td>\n",
       "    </tr>\n",
       "    <tr>\n",
       "      <th>3</th>\n",
       "      <td>3.469447e-16</td>\n",
       "      <td>-3.469447e-16</td>\n",
       "      <td>-1.387779e-17</td>\n",
       "      <td>1.000000e+00</td>\n",
       "      <td>-2.775558e-17</td>\n",
       "      <td>-9.714451e-16</td>\n",
       "      <td>0.000000e+00</td>\n",
       "    </tr>\n",
       "    <tr>\n",
       "      <th>4</th>\n",
       "      <td>-6.938894e-18</td>\n",
       "      <td>6.938894e-18</td>\n",
       "      <td>-7.216450e-16</td>\n",
       "      <td>-2.775558e-17</td>\n",
       "      <td>1.000000e+00</td>\n",
       "      <td>0.000000e+00</td>\n",
       "      <td>-8.049117e-16</td>\n",
       "    </tr>\n",
       "    <tr>\n",
       "      <th>5</th>\n",
       "      <td>2.428613e-16</td>\n",
       "      <td>-2.428613e-16</td>\n",
       "      <td>0.000000e+00</td>\n",
       "      <td>-9.714451e-16</td>\n",
       "      <td>0.000000e+00</td>\n",
       "      <td>1.000000e+00</td>\n",
       "      <td>0.000000e+00</td>\n",
       "    </tr>\n",
       "    <tr>\n",
       "      <th>6</th>\n",
       "      <td>0.000000e+00</td>\n",
       "      <td>0.000000e+00</td>\n",
       "      <td>-5.273559e-16</td>\n",
       "      <td>0.000000e+00</td>\n",
       "      <td>-8.049117e-16</td>\n",
       "      <td>0.000000e+00</td>\n",
       "      <td>1.000000e+00</td>\n",
       "    </tr>\n",
       "  </tbody>\n",
       "</table>\n",
       "</div>"
      ],
      "text/plain": [
       "              0             1             2             3             4  \\\n",
       "0  5.000000e-01 -5.000000e-01  4.163336e-17  3.469447e-16 -6.938894e-18   \n",
       "1 -5.000000e-01  5.000000e-01 -4.163336e-17 -3.469447e-16  6.938894e-18   \n",
       "2  4.163336e-17 -4.163336e-17  1.000000e+00 -1.387779e-17 -7.216450e-16   \n",
       "3  3.469447e-16 -3.469447e-16 -1.387779e-17  1.000000e+00 -2.775558e-17   \n",
       "4 -6.938894e-18  6.938894e-18 -7.216450e-16 -2.775558e-17  1.000000e+00   \n",
       "5  2.428613e-16 -2.428613e-16  0.000000e+00 -9.714451e-16  0.000000e+00   \n",
       "6  0.000000e+00  0.000000e+00 -5.273559e-16  0.000000e+00 -8.049117e-16   \n",
       "\n",
       "              5             6  \n",
       "0  2.428613e-16  0.000000e+00  \n",
       "1 -2.428613e-16  0.000000e+00  \n",
       "2  0.000000e+00 -5.273559e-16  \n",
       "3 -9.714451e-16  0.000000e+00  \n",
       "4  0.000000e+00 -8.049117e-16  \n",
       "5  1.000000e+00  0.000000e+00  \n",
       "6  0.000000e+00  1.000000e+00  "
      ]
     },
     "execution_count": 57,
     "metadata": {},
     "output_type": "execute_result"
    }
   ],
   "source": [
    "N = 10\n",
    "xg, wg = roots_legendre(N)\n",
    "\n",
    "p = 6\n",
    "A = np.zeros((p + 1, p + 1))\n",
    "rhs = np.zeros(p + 1)\n",
    "\n",
    "\n",
    "for q in range(N):\n",
    "    # xl = x[0]\n",
    "    # xr = x[-1]\n",
    "    # xq = ((1.0 - xg[q]) * xl + (1.0 + xg[q]) * xr) / 2.0\n",
    "    # wq = wg[q] * (xr - xl) / 2.0\n",
    "    xq = xg[q]\n",
    "    wq = wg[q]\n",
    "\n",
    "    for i in range(p+1):\n",
    "        phii, phiix = Hierarchical(xq, i)\n",
    "        rhs[i] = rhs[i] + wq * phii * d2f(xq)\n",
    "\n",
    "        for j in range(p+1):\n",
    "            phij, phijx = Hierarchical(xq, j)\n",
    "            Aij = phiix * phijx #+ phii * phij\n",
    "            A[i, j] += Aij * wq\n",
    "\n",
    "pd.DataFrame(A)\n"
   ]
  }
 ],
 "metadata": {
  "kernelspec": {
   "display_name": "Python 3.9.13 ('FEM')",
   "language": "python",
   "name": "python3"
  },
  "language_info": {
   "codemirror_mode": {
    "name": "ipython",
    "version": 3
   },
   "file_extension": ".py",
   "mimetype": "text/x-python",
   "name": "python",
   "nbconvert_exporter": "python",
   "pygments_lexer": "ipython3",
   "version": "3.9.13"
  },
  "orig_nbformat": 4,
  "vscode": {
   "interpreter": {
    "hash": "1d62ad63c8da2c62a4a1db558e826e3b529be0fabe5bf378d9efef5f610e6b6e"
   }
  }
 },
 "nbformat": 4,
 "nbformat_minor": 2
}
