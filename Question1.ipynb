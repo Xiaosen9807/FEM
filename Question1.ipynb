{
 "cells": [
  {
   "cell_type": "code",
   "execution_count": 103,
   "metadata": {},
   "outputs": [],
   "source": [
    "import torch\n",
    "from torch import atan\n",
    "from torch.autograd import grad\n",
    "import numpy as np\n",
    "import matplotlib.pyplot as plt\n",
    "from scipy.interpolate import lagrange\n",
    "from scipy.misc import derivative\n",
    "\n",
    "from sympy import symbols, integrate, sinh, E, diff\n",
    "import sympy as sp\n",
    "from scipy.special import roots_legendre\n",
    "from Func import *\n"
   ]
  },
  {
   "cell_type": "code",
   "execution_count": 104,
   "metadata": {},
   "outputs": [
    {
     "name": "stdout",
     "output_type": "stream",
     "text": [
      "0.010085711497171208\n"
     ]
    }
   ],
   "source": [
    "def f(x, a=0.5, xb=0.8):\n",
    "    return (1 - x) * (sp.atan(a * (x - xb)) + sp.atan(a*xb))\n",
    "\n",
    "\n",
    "x = symbols('x')\n",
    "a = 0.5\n",
    "xb = 0.8\n",
    "u = f_test(x)\n",
    "un = fn_test(x)\n",
    "\n",
    "print(error(u, un, x))\n"
   ]
  },
  {
   "cell_type": "code",
   "execution_count": 105,
   "metadata": {},
   "outputs": [],
   "source": [
    "def lagrange(x, y, num_points, x_test):\n",
    "    # 所有的基函数值，每个元素代表一个基函数的值\n",
    "    l = np.zeros(shape=(num_points, ))\n",
    "\n",
    "    # 计算第k个基函数的值\n",
    "    for k in range(num_points):\n",
    "        # 乘法时必须先有一个值\n",
    "        # 由于l[k]肯定会被至少乘n次，所以可以取1\n",
    "        l[k] = 1\n",
    "        # 计算第k个基函数中第k_个项（每一项：分子除以分母）\n",
    "        for k_ in range(num_points):\n",
    "            # 这里没搞清楚，书中公式上没有对k=k_时，即分母为0进行说明\n",
    "            # 有些资料上显示k是不等于k_的\n",
    "            if k != k_:\n",
    "                # 基函数需要通过连乘得到\n",
    "                l[k] = l[k]*(x_test-x[k_])/(x[k]-x[k_])\n",
    "            else:\n",
    "                pass\n",
    "    # 计算当前需要预测的x_test对应的y_test值\n",
    "    L = 0\n",
    "    for i in range(num_points):\n",
    "        # 求所有基函数值的和\n",
    "        L += y[i]*l[i]\n",
    "    return L\n",
    "\n"
   ]
  }
 ],
 "metadata": {
  "kernelspec": {
   "display_name": "Python 3.9.13 ('FEM')",
   "language": "python",
   "name": "python3"
  },
  "language_info": {
   "codemirror_mode": {
    "name": "ipython",
    "version": 3
   },
   "file_extension": ".py",
   "mimetype": "text/x-python",
   "name": "python",
   "nbconvert_exporter": "python",
   "pygments_lexer": "ipython3",
   "version": "3.9.13"
  },
  "orig_nbformat": 4,
  "vscode": {
   "interpreter": {
    "hash": "0e157782877e80a99daf9dc7648ed48169e9478d9c248b83343ffc4c332b213e"
   }
  }
 },
 "nbformat": 4,
 "nbformat_minor": 2
}
